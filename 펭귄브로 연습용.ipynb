{
 "cells": [
  {
   "cell_type": "markdown",
   "id": "charitable-nature",
   "metadata": {},
   "source": [
    "# 3.1 텐서와 Autograd"
   ]
  },
  {
   "cell_type": "markdown",
   "id": "bibliographic-radio",
   "metadata": {},
   "source": [
    "##3.1.1 텐서 차원 다루기"
   ]
  },
  {
   "cell_type": "code",
   "execution_count": 1,
   "id": "viral-summary",
   "metadata": {},
   "outputs": [],
   "source": [
    "import torch"
   ]
  },
  {
   "cell_type": "code",
   "execution_count": 2,
   "id": "coastal-distance",
   "metadata": {},
   "outputs": [
    {
     "name": "stdout",
     "output_type": "stream",
     "text": [
      "tensor([[1, 2, 3],\n",
      "        [4, 5, 6],\n",
      "        [7, 8, 9]])\n"
     ]
    }
   ],
   "source": [
    "# 램크 2 텐서 (x,y, 2차원이기때문)\n",
    "x= torch.tensor([[1,2,3], [4,5,6], [7,8,9]])\n",
    "print(x)"
   ]
  },
  {
   "cell_type": "code",
   "execution_count": 3,
   "id": "yellow-greenhouse",
   "metadata": {},
   "outputs": [
    {
     "name": "stdout",
     "output_type": "stream",
     "text": [
      "Size:  torch.Size([3, 3])\n",
      "Shape:  torch.Size([3, 3])\n",
      "랭크: 2\n"
     ]
    }
   ],
   "source": [
    "# 사이즈, 쉐입, 차원 확인하는 방법\n",
    "print(\"Size: \", x.size())\n",
    "print(\"Shape: \", x.shape)\n",
    "print(\"랭크:\", x.ndimension())"
   ]
  },
  {
   "cell_type": "code",
   "execution_count": 4,
   "id": "olympic-henry",
   "metadata": {},
   "outputs": [
    {
     "name": "stdout",
     "output_type": "stream",
     "text": [
      "tensor([[[1, 2, 3],\n",
      "         [4, 5, 6],\n",
      "         [7, 8, 9]]])\n",
      "Size:  torch.Size([1, 3, 3])\n",
      "Shape:  torch.Size([1, 3, 3])\n",
      "랭크: 3\n"
     ]
    }
   ],
   "source": [
    "# 랭크 늘리기-> 차원을 늘리는것\n",
    "x = torch.unsqueeze(x, 0)\n",
    "print(x)\n",
    "print(\"Size: \", x.size())\n",
    "print(\"Shape: \", x.shape)\n",
    "print(\"랭크:\", x.ndimension())"
   ]
  },
  {
   "cell_type": "code",
   "execution_count": 5,
   "id": "metropolitan-decline",
   "metadata": {},
   "outputs": [
    {
     "name": "stdout",
     "output_type": "stream",
     "text": [
      "tensor([[1, 2, 3],\n",
      "        [4, 5, 6],\n",
      "        [7, 8, 9]])\n",
      "Shape: torch.Size([3, 3])\n",
      "Shape:  torch.Size([3, 3])\n",
      "랭크: 2\n"
     ]
    }
   ],
   "source": [
    "# 랭크 줄이기-> 차원을 줄이는것\n",
    "x = torch.squeeze(x)\n",
    "print(x)\n",
    "print(\"Shape:\", x.shape)\n",
    "print(\"Shape: \", x.shape)\n",
    "print(\"랭크:\", x.ndimension())"
   ]
  },
  {
   "cell_type": "code",
   "execution_count": 8,
   "id": "distributed-bouquet",
   "metadata": {},
   "outputs": [
    {
     "name": "stdout",
     "output_type": "stream",
     "text": [
      "tensor([1, 2, 3, 4, 5, 6, 7, 8, 9])\n",
      "Shape: torch.Size([9])\n",
      "Shape:  torch.Size([9])\n",
      "랭크: 1\n"
     ]
    }
   ],
   "source": [
    "# 텐서의 모양을 바꾸는 방법_  텐서의 모양이 바뀌면서 1랭크로 변함\n",
    "x = x.view(9)\n",
    "print(x)\n",
    "print(\"Shape:\", x.shape)\n",
    "print(\"Shape: \", x.shape)\n",
    "print(\"랭크:\", x.ndimension())"
   ]
  },
  {
   "cell_type": "code",
   "execution_count": null,
   "id": "separate-simpson",
   "metadata": {},
   "outputs": [],
   "source": []
  }
 ],
 "metadata": {
  "kernelspec": {
   "display_name": "Python 3",
   "language": "python",
   "name": "python3"
  },
  "language_info": {
   "codemirror_mode": {
    "name": "ipython",
    "version": 3
   },
   "file_extension": ".py",
   "mimetype": "text/x-python",
   "name": "python",
   "nbconvert_exporter": "python",
   "pygments_lexer": "ipython3",
   "version": "3.8.8"
  }
 },
 "nbformat": 4,
 "nbformat_minor": 5
}
