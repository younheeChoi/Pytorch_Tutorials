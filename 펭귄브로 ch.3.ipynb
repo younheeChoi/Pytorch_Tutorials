{
 "cells": [
  {
   "cell_type": "markdown",
   "id": "attended-librarian",
   "metadata": {},
   "source": [
    "# 3.1 텐서와 Autograd"
   ]
  },
  {
   "cell_type": "markdown",
   "id": "hybrid-spending",
   "metadata": {},
   "source": [
    "##3.1.1 텐서 차원 다루기"
   ]
  },
  {
   "cell_type": "code",
   "execution_count": 1,
   "id": "equipped-mounting",
   "metadata": {},
   "outputs": [],
   "source": [
    "import torch"
   ]
  },
  {
   "cell_type": "code",
   "execution_count": 2,
   "id": "loving-tennessee",
   "metadata": {},
   "outputs": [
    {
     "name": "stdout",
     "output_type": "stream",
     "text": [
      "tensor([[1, 2, 3],\n",
      "        [4, 5, 6],\n",
      "        [7, 8, 9]])\n"
     ]
    }
   ],
   "source": [
    "# 램크 2 텐서 (x,y, 2차원이기때문)\n",
    "x= torch.tensor([[1,2,3], [4,5,6], [7,8,9]])\n",
    "print(x)"
   ]
  },
  {
   "cell_type": "code",
   "execution_count": 3,
   "id": "advisory-invention",
   "metadata": {},
   "outputs": [
    {
     "name": "stdout",
     "output_type": "stream",
     "text": [
      "Size:  torch.Size([3, 3])\n",
      "Shape:  torch.Size([3, 3])\n",
      "랭크: 2\n"
     ]
    }
   ],
   "source": [
    "# 사이즈, 쉐입, 차원 확인하는 방법\n",
    "print(\"Size: \", x.size())\n",
    "print(\"Shape: \", x.shape)\n",
    "print(\"랭크:\", x.ndimension())"
   ]
  },
  {
   "cell_type": "code",
   "execution_count": 4,
   "id": "competitive-nightlife",
   "metadata": {},
   "outputs": [
    {
     "name": "stdout",
     "output_type": "stream",
     "text": [
      "tensor([[[1, 2, 3],\n",
      "         [4, 5, 6],\n",
      "         [7, 8, 9]]])\n",
      "Size:  torch.Size([1, 3, 3])\n",
      "Shape:  torch.Size([1, 3, 3])\n",
      "랭크: 3\n"
     ]
    }
   ],
   "source": [
    "# 랭크 늘리기-> 차원을 늘리는것\n",
    "x = torch.unsqueeze(x, 0)\n",
    "print(x)\n",
    "print(\"Size: \", x.size())\n",
    "print(\"Shape: \", x.shape)\n",
    "print(\"랭크:\", x.ndimension())"
   ]
  },
  {
   "cell_type": "code",
   "execution_count": 5,
   "id": "robust-enclosure",
   "metadata": {},
   "outputs": [
    {
     "name": "stdout",
     "output_type": "stream",
     "text": [
      "tensor([[1, 2, 3],\n",
      "        [4, 5, 6],\n",
      "        [7, 8, 9]])\n",
      "Shape: torch.Size([3, 3])\n",
      "Shape:  torch.Size([3, 3])\n",
      "랭크: 2\n"
     ]
    }
   ],
   "source": [
    "# 랭크 줄이기-> 차원을 줄이는것\n",
    "x = torch.squeeze(x)\n",
    "print(x)\n",
    "print(\"Shape:\", x.shape)\n",
    "print(\"Shape: \", x.shape)\n",
    "print(\"랭크:\", x.ndimension())"
   ]
  },
  {
   "cell_type": "code",
   "execution_count": 8,
   "id": "israeli-basket",
   "metadata": {},
   "outputs": [
    {
     "name": "stdout",
     "output_type": "stream",
     "text": [
      "tensor([1, 2, 3, 4, 5, 6, 7, 8, 9])\n",
      "Shape: torch.Size([9])\n",
      "Shape:  torch.Size([9])\n",
      "랭크: 1\n"
     ]
    }
   ],
   "source": [
    "# 텐서의 모양을 바꾸는 방법_  텐서의 모양이 바뀌면서 1랭크로 변함\n",
    "x = x.view(9)\n",
    "print(x)\n",
    "print(\"Shape:\", x.shape)\n",
    "print(\"Shape: \", x.shape)\n",
    "print(\"랭크:\", x.ndimension())"
   ]
  },
  {
   "cell_type": "markdown",
   "id": "handmade-narrow",
   "metadata": {},
   "source": [
    "###3.1.2 연산과 행렬곱"
   ]
  },
  {
   "cell_type": "code",
   "execution_count": 9,
   "id": "alike-netscape",
   "metadata": {},
   "outputs": [],
   "source": [
    "# 일반 수학에서의 행렬곱과 같다고 보면된다"
   ]
  },
  {
   "cell_type": "code",
   "execution_count": 18,
   "id": "fuzzy-refund",
   "metadata": {},
   "outputs": [
    {
     "name": "stdout",
     "output_type": "stream",
     "text": [
      "a size: torch.Size([5, 3])\n",
      "b size: torch.Size([3, 2])\n"
     ]
    },
    {
     "data": {
      "text/plain": [
       "tensor([[1., 2.],\n",
       "        [3., 4.],\n",
       "        [5., 6.]])"
      ]
     },
     "execution_count": 18,
     "metadata": {},
     "output_type": "execute_result"
    }
   ],
   "source": [
    "# 행렬정의\n",
    "a = torch.randn(5,3, dtype = torch.float)\n",
    "b = torch.tensor([[1.0, 2.0], [3.0, 4.0], [5.0, 6.0]])\n",
    "\n",
    "print(\"a size:\", a.size())\n",
    "print(\"b size:\", b.size())\n",
    "print(a)\n",
    "print(b)"
   ]
  },
  {
   "cell_type": "code",
   "execution_count": 20,
   "id": "accepting-adoption",
   "metadata": {},
   "outputs": [
    {
     "data": {
      "text/plain": [
       "tensor([[ 0.2371, -0.6799],\n",
       "        [ 0.9994, -1.5136],\n",
       "        [ 1.2248, -0.5345],\n",
       "        [ 1.8143,  0.1355],\n",
       "        [-0.8643, -1.7029]])"
      ]
     },
     "execution_count": 20,
     "metadata": {},
     "output_type": "execute_result"
    }
   ],
   "source": [
    "# 연산에 쓰일 행렬 추가\n",
    "c = torch.randn(5,2, dtype = torch.float)\n",
    "c"
   ]
  },
  {
   "cell_type": "code",
   "execution_count": 22,
   "id": "dependent-ireland",
   "metadata": {},
   "outputs": [
    {
     "name": "stdout",
     "output_type": "stream",
     "text": [
      "ab size: torch.Size([5, 2])\n",
      "tensor([[ 0.2631,  1.3526],\n",
      "        [-0.8155, -2.2326],\n",
      "        [-7.9376, -9.8929],\n",
      "        [ 3.2135,  5.4229],\n",
      "        [11.0425, 14.5151]])\n"
     ]
    }
   ],
   "source": [
    "# 행렬 곱 방법 torch.mm 사용\n",
    "ab = torch.mm(a,b)\n",
    "print(\"ab size:\", ab.size())\n",
    "print(ab)"
   ]
  },
  {
   "cell_type": "markdown",
   "id": "suited-digest",
   "metadata": {},
   "source": [
    "#### 3.1.3  Autograd"
   ]
  },
  {
   "cell_type": "markdown",
   "id": "technical-accounting",
   "metadata": {},
   "source": [
    "##### 경사 하강법을 이용하여 오차를 줄여나가는 기울기를 찾으며 이를 위해서 autograd를 배운다. \n",
    "##### = 미분 계산을 자동화하여 경사하강법 구현을 편리하게 해줌"
   ]
  },
  {
   "cell_type": "code",
   "execution_count": 35,
   "id": "prospective-engine",
   "metadata": {},
   "outputs": [
    {
     "name": "stdout",
     "output_type": "stream",
     "text": [
      "None\n"
     ]
    }
   ],
   "source": [
    "a = torch.tensor(1.0, requires_grad = True) # Ture로 할시 a.grad에 미분값이 자동으로 저장된다.\n",
    "print(a.grad)"
   ]
  },
  {
   "cell_type": "code",
   "execution_count": 36,
   "id": "potential-williams",
   "metadata": {},
   "outputs": [],
   "source": [
    "b = a*3"
   ]
  },
  {
   "cell_type": "code",
   "execution_count": 37,
   "id": "sustained-mainstream",
   "metadata": {},
   "outputs": [],
   "source": [
    "c = b**2"
   ]
  },
  {
   "cell_type": "code",
   "execution_count": 38,
   "id": "overall-jonathan",
   "metadata": {},
   "outputs": [],
   "source": [
    "# c = b^2 = (a*3)^2 = 9a^2"
   ]
  },
  {
   "cell_type": "code",
   "execution_count": 39,
   "id": "biblical-gossip",
   "metadata": {},
   "outputs": [
    {
     "name": "stdout",
     "output_type": "stream",
     "text": [
      "c를 a로 미분 한 값은 18.0\n"
     ]
    }
   ],
   "source": [
    "# 미분해주는 함수: backward()\n",
    "c.backward()\n",
    "print('c를 a로 미분 한 값은 {}'.format(a.grad))"
   ]
  }
 ],
 "metadata": {
  "kernelspec": {
   "display_name": "Python 3",
   "language": "python",
   "name": "python3"
  },
  "language_info": {
   "codemirror_mode": {
    "name": "ipython",
    "version": 3
   },
   "file_extension": ".py",
   "mimetype": "text/x-python",
   "name": "python",
   "nbconvert_exporter": "python",
   "pygments_lexer": "ipython3",
   "version": "3.8.8"
  }
 },
 "nbformat": 4,
 "nbformat_minor": 5
}
